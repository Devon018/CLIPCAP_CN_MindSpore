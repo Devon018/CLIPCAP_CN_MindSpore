{
 "cells": [
  {
   "cell_type": "code",
   "execution_count": null,
   "metadata": {},
   "outputs": [],
   "source": [
    "# !pip install mindnlp -i https://pypi.tuna.tsinghua.edu.cn/simple\n",
    "!pip install torch -i https://pypi.tuna.tsinghua.edu.cn/simple\n",
    "!pip install loguru -i https://pypi.tuna.tsinghua.edu.cn/simple\n",
    "!pip install https://mindspore-courses.obs.cn-north-4.myhuaweicloud.com/mindnlp/mindnlp-0.4.0-py3-none-any.whl -i https://pypi.tuna.tsinghua.edu.cn/simple"
   ]
  },
  {
   "cell_type": "code",
   "execution_count": null,
   "metadata": {},
   "outputs": [],
   "source": [
    "!python prediction.py"
   ]
  }
 ],
 "metadata": {
  "language_info": {
   "name": "python"
  }
 },
 "nbformat": 4,
 "nbformat_minor": 2
}
